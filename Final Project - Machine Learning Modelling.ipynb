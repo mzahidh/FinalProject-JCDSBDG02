{
 "cells": [
  {
   "cell_type": "markdown",
   "metadata": {},
   "source": [
    "# Machine Learning Modelling"
   ]
  },
  {
   "cell_type": "code",
   "execution_count": 1,
   "metadata": {},
   "outputs": [],
   "source": [
    "import pandas as pd\n",
    "import numpy as np\n",
    "import seaborn as sns\n",
    "import matplotlib.pyplot as plt\n",
    "import warnings\n",
    "warnings.filterwarnings('ignore')"
   ]
  },
  {
   "cell_type": "code",
   "execution_count": 2,
   "metadata": {},
   "outputs": [],
   "source": [
    "data = pd.read_csv('CleanDataset_FinalProject.csv')\n",
    "pd.set_option('display.max_columns',None)"
   ]
  },
  {
   "cell_type": "code",
   "execution_count": 3,
   "metadata": {},
   "outputs": [
    {
     "data": {
      "text/html": [
       "<div>\n",
       "<style scoped>\n",
       "    .dataframe tbody tr th:only-of-type {\n",
       "        vertical-align: middle;\n",
       "    }\n",
       "\n",
       "    .dataframe tbody tr th {\n",
       "        vertical-align: top;\n",
       "    }\n",
       "\n",
       "    .dataframe thead th {\n",
       "        text-align: right;\n",
       "    }\n",
       "</style>\n",
       "<table border=\"1\" class=\"dataframe\">\n",
       "  <thead>\n",
       "    <tr style=\"text-align: right;\">\n",
       "      <th></th>\n",
       "      <th>Project County</th>\n",
       "      <th>Project City</th>\n",
       "      <th>Gas Utility</th>\n",
       "      <th>Electric Utility</th>\n",
       "      <th>Project Completion Date</th>\n",
       "      <th>Customer Type</th>\n",
       "      <th>Low-Rise or Home Performance Indicator</th>\n",
       "      <th>Total Project Cost</th>\n",
       "      <th>Total Incentives</th>\n",
       "      <th>Type of Program Financing</th>\n",
       "      <th>Amount Financed Through Program</th>\n",
       "      <th>Pre-Retrofit Home Heating Fuel Type</th>\n",
       "      <th>Size of Home</th>\n",
       "      <th>Volume of Home</th>\n",
       "      <th>Number of Units</th>\n",
       "      <th>Measure Type</th>\n",
       "      <th>Estimated Annual kWh Savings</th>\n",
       "      <th>Estimated Annual MMBtu Savings</th>\n",
       "      <th>First Year Energy Savings $ Estimate</th>\n",
       "      <th>Homeowner Received Green Jobs-Green NY Free/Reduced Cost Audit (Y/N)</th>\n",
       "    </tr>\n",
       "  </thead>\n",
       "  <tbody>\n",
       "    <tr>\n",
       "      <td>0</td>\n",
       "      <td>Herkimer</td>\n",
       "      <td>Salisbury Center</td>\n",
       "      <td>National Grid</td>\n",
       "      <td>National Grid</td>\n",
       "      <td>2015-11-12</td>\n",
       "      <td>Market</td>\n",
       "      <td>Home Performance</td>\n",
       "      <td>5235</td>\n",
       "      <td>524</td>\n",
       "      <td>Not Financed Through The Legacy Program Financ...</td>\n",
       "      <td>0.0</td>\n",
       "      <td>Natural Gas</td>\n",
       "      <td>2160.0</td>\n",
       "      <td>25200.000000</td>\n",
       "      <td>1.0</td>\n",
       "      <td>Building Shell</td>\n",
       "      <td>383</td>\n",
       "      <td>49</td>\n",
       "      <td>556</td>\n",
       "      <td>Y</td>\n",
       "    </tr>\n",
       "    <tr>\n",
       "      <td>1</td>\n",
       "      <td>Oneida</td>\n",
       "      <td>Clinton</td>\n",
       "      <td>National Grid</td>\n",
       "      <td>National Grid</td>\n",
       "      <td>2015-11-13</td>\n",
       "      <td>Market</td>\n",
       "      <td>Home Performance</td>\n",
       "      <td>4145</td>\n",
       "      <td>415</td>\n",
       "      <td>Not Financed Through The Legacy Program Financ...</td>\n",
       "      <td>0.0</td>\n",
       "      <td>Natural Gas</td>\n",
       "      <td>1843.0</td>\n",
       "      <td>14897.833333</td>\n",
       "      <td>1.0</td>\n",
       "      <td>Building Shell</td>\n",
       "      <td>138</td>\n",
       "      <td>37</td>\n",
       "      <td>401</td>\n",
       "      <td>Y</td>\n",
       "    </tr>\n",
       "    <tr>\n",
       "      <td>2</td>\n",
       "      <td>Onondaga</td>\n",
       "      <td>Marietta</td>\n",
       "      <td>No Gas Provider</td>\n",
       "      <td>New York State Electric &amp; Gas</td>\n",
       "      <td>2015-11-13</td>\n",
       "      <td>Market</td>\n",
       "      <td>Home Performance</td>\n",
       "      <td>4310</td>\n",
       "      <td>431</td>\n",
       "      <td>Not Financed Through The Legacy Program Financ...</td>\n",
       "      <td>0.0</td>\n",
       "      <td>Kerosene</td>\n",
       "      <td>1872.0</td>\n",
       "      <td>16016.000000</td>\n",
       "      <td>1.0</td>\n",
       "      <td>Building Shell</td>\n",
       "      <td>15</td>\n",
       "      <td>24</td>\n",
       "      <td>748</td>\n",
       "      <td>Y</td>\n",
       "    </tr>\n",
       "    <tr>\n",
       "      <td>3</td>\n",
       "      <td>Oneida</td>\n",
       "      <td>Vernon</td>\n",
       "      <td>No Gas Provider</td>\n",
       "      <td>National Grid</td>\n",
       "      <td>2015-12-09</td>\n",
       "      <td>Market</td>\n",
       "      <td>Home Performance</td>\n",
       "      <td>3785</td>\n",
       "      <td>379</td>\n",
       "      <td>Not Financed Through The Legacy Program Financ...</td>\n",
       "      <td>0.0</td>\n",
       "      <td>Kerosene</td>\n",
       "      <td>1008.0</td>\n",
       "      <td>10272.000000</td>\n",
       "      <td>1.0</td>\n",
       "      <td>Building Shell</td>\n",
       "      <td>0</td>\n",
       "      <td>11</td>\n",
       "      <td>324</td>\n",
       "      <td>Y</td>\n",
       "    </tr>\n",
       "    <tr>\n",
       "      <td>4</td>\n",
       "      <td>Herkimer</td>\n",
       "      <td>Herkimer</td>\n",
       "      <td>National Grid</td>\n",
       "      <td>National Grid</td>\n",
       "      <td>2015-11-13</td>\n",
       "      <td>Market</td>\n",
       "      <td>Home Performance</td>\n",
       "      <td>2360</td>\n",
       "      <td>236</td>\n",
       "      <td>Not Financed Through The Legacy Program Financ...</td>\n",
       "      <td>0.0</td>\n",
       "      <td>Natural Gas</td>\n",
       "      <td>1128.0</td>\n",
       "      <td>9797.718750</td>\n",
       "      <td>1.0</td>\n",
       "      <td>Building Shell</td>\n",
       "      <td>88</td>\n",
       "      <td>15</td>\n",
       "      <td>166</td>\n",
       "      <td>Y</td>\n",
       "    </tr>\n",
       "  </tbody>\n",
       "</table>\n",
       "</div>"
      ],
      "text/plain": [
       "  Project County      Project City      Gas Utility  \\\n",
       "0       Herkimer  Salisbury Center    National Grid   \n",
       "1         Oneida           Clinton    National Grid   \n",
       "2       Onondaga          Marietta  No Gas Provider   \n",
       "3         Oneida            Vernon  No Gas Provider   \n",
       "4       Herkimer          Herkimer    National Grid   \n",
       "\n",
       "                Electric Utility Project Completion Date Customer Type  \\\n",
       "0                  National Grid              2015-11-12        Market   \n",
       "1                  National Grid              2015-11-13        Market   \n",
       "2  New York State Electric & Gas              2015-11-13        Market   \n",
       "3                  National Grid              2015-12-09        Market   \n",
       "4                  National Grid              2015-11-13        Market   \n",
       "\n",
       "  Low-Rise or Home Performance Indicator  Total Project Cost  \\\n",
       "0                       Home Performance                5235   \n",
       "1                       Home Performance                4145   \n",
       "2                       Home Performance                4310   \n",
       "3                       Home Performance                3785   \n",
       "4                       Home Performance                2360   \n",
       "\n",
       "   Total Incentives                          Type of Program Financing  \\\n",
       "0               524  Not Financed Through The Legacy Program Financ...   \n",
       "1               415  Not Financed Through The Legacy Program Financ...   \n",
       "2               431  Not Financed Through The Legacy Program Financ...   \n",
       "3               379  Not Financed Through The Legacy Program Financ...   \n",
       "4               236  Not Financed Through The Legacy Program Financ...   \n",
       "\n",
       "   Amount Financed Through Program Pre-Retrofit Home Heating Fuel Type  \\\n",
       "0                              0.0                         Natural Gas   \n",
       "1                              0.0                         Natural Gas   \n",
       "2                              0.0                            Kerosene   \n",
       "3                              0.0                            Kerosene   \n",
       "4                              0.0                         Natural Gas   \n",
       "\n",
       "   Size of Home  Volume of Home  Number of Units    Measure Type  \\\n",
       "0        2160.0    25200.000000              1.0  Building Shell   \n",
       "1        1843.0    14897.833333              1.0  Building Shell   \n",
       "2        1872.0    16016.000000              1.0  Building Shell   \n",
       "3        1008.0    10272.000000              1.0  Building Shell   \n",
       "4        1128.0     9797.718750              1.0  Building Shell   \n",
       "\n",
       "   Estimated Annual kWh Savings  Estimated Annual MMBtu Savings  \\\n",
       "0                           383                              49   \n",
       "1                           138                              37   \n",
       "2                            15                              24   \n",
       "3                             0                              11   \n",
       "4                            88                              15   \n",
       "\n",
       "   First Year Energy Savings $ Estimate  \\\n",
       "0                                   556   \n",
       "1                                   401   \n",
       "2                                   748   \n",
       "3                                   324   \n",
       "4                                   166   \n",
       "\n",
       "  Homeowner Received Green Jobs-Green NY Free/Reduced Cost Audit (Y/N)  \n",
       "0                                                  Y                    \n",
       "1                                                  Y                    \n",
       "2                                                  Y                    \n",
       "3                                                  Y                    \n",
       "4                                                  Y                    "
      ]
     },
     "execution_count": 3,
     "metadata": {},
     "output_type": "execute_result"
    }
   ],
   "source": [
    "data.head()"
   ]
  },
  {
   "cell_type": "code",
   "execution_count": 4,
   "metadata": {},
   "outputs": [
    {
     "name": "stdout",
     "output_type": "stream",
     "text": [
      "<class 'pandas.core.frame.DataFrame'>\n",
      "RangeIndex: 46618 entries, 0 to 46617\n",
      "Data columns (total 20 columns):\n",
      "Project County                                                          46618 non-null object\n",
      "Project City                                                            46618 non-null object\n",
      "Gas Utility                                                             46618 non-null object\n",
      "Electric Utility                                                        46618 non-null object\n",
      "Project Completion Date                                                 46618 non-null object\n",
      "Customer Type                                                           46618 non-null object\n",
      "Low-Rise or Home Performance Indicator                                  46618 non-null object\n",
      "Total Project Cost                                                      46618 non-null int64\n",
      "Total Incentives                                                        46618 non-null int64\n",
      "Type of Program Financing                                               46618 non-null object\n",
      "Amount Financed Through Program                                         46618 non-null float64\n",
      "Pre-Retrofit Home Heating Fuel Type                                     46618 non-null object\n",
      "Size of Home                                                            46618 non-null float64\n",
      "Volume of Home                                                          46618 non-null float64\n",
      "Number of Units                                                         46618 non-null float64\n",
      "Measure Type                                                            46618 non-null object\n",
      "Estimated Annual kWh Savings                                            46618 non-null int64\n",
      "Estimated Annual MMBtu Savings                                          46618 non-null int64\n",
      "First Year Energy Savings $ Estimate                                    46618 non-null int64\n",
      "Homeowner Received Green Jobs-Green NY Free/Reduced Cost Audit (Y/N)    46618 non-null object\n",
      "dtypes: float64(4), int64(5), object(11)\n",
      "memory usage: 7.1+ MB\n"
     ]
    }
   ],
   "source": [
    "data.info()"
   ]
  },
  {
   "cell_type": "code",
   "execution_count": 5,
   "metadata": {},
   "outputs": [],
   "source": [
    "data = data.drop(['Project County', 'Project City','Project Completion Date'],axis=1)"
   ]
  },
  {
   "cell_type": "code",
   "execution_count": 6,
   "metadata": {},
   "outputs": [
    {
     "data": {
      "text/plain": [
       "(46618, 17)"
      ]
     },
     "execution_count": 6,
     "metadata": {},
     "output_type": "execute_result"
    }
   ],
   "source": [
    "data.shape"
   ]
  },
  {
   "cell_type": "markdown",
   "metadata": {},
   "source": [
    "**Import Library that we will use**"
   ]
  },
  {
   "cell_type": "code",
   "execution_count": 7,
   "metadata": {},
   "outputs": [],
   "source": [
    "from sklearn.model_selection import train_test_split, cross_val_score, KFold , GridSearchCV\n",
    "from sklearn import metrics\n",
    "from sklearn.metrics import mean_absolute_error,mean_squared_error,r2_score,classification_report,accuracy_score, f1_score, recall_score, confusion_matrix, roc_auc_score\n",
    "from sklearn.metrics import classification_report,accuracy_score, f1_score, recall_score, confusion_matrix, roc_auc_score, roc_curve, auc\n",
    "from sklearn.linear_model import LinearRegression,Lasso,Ridge,LogisticRegression\n",
    "from sklearn.tree import DecisionTreeRegressor, DecisionTreeClassifier\n",
    "from sklearn.ensemble import RandomForestRegressor,GradientBoostingRegressor, RandomForestClassifier, GradientBoostingClassifier\n",
    "from xgboost import XGBRegressor, XGBClassifier\n",
    "from sklearn.neighbors import KNeighborsClassifier\n",
    "from imblearn.over_sampling import SMOTE"
   ]
  },
  {
   "cell_type": "markdown",
   "metadata": {},
   "source": [
    "**Change categorical columns into numerical columns**"
   ]
  },
  {
   "cell_type": "code",
   "execution_count": 8,
   "metadata": {},
   "outputs": [],
   "source": [
    "df = data.copy()"
   ]
  },
  {
   "cell_type": "code",
   "execution_count": 9,
   "metadata": {},
   "outputs": [],
   "source": [
    "df = pd.get_dummies(data=df,columns=['Gas Utility', 'Electric Utility', 'Customer Type',\n",
    "       'Low-Rise or Home Performance Indicator',\n",
    "       'Pre-Retrofit Home Heating Fuel Type', 'Measure Type','Type of Program Financing'], drop_first=True)\n",
    "df['Homeowner Received Green Jobs-Green NY Free/Reduced Cost Audit (Y/N)'] = df['Homeowner Received Green Jobs-Green NY Free/Reduced Cost Audit (Y/N)'].map({'Y' : 1, 'N' : 0})"
   ]
  },
  {
   "cell_type": "markdown",
   "metadata": {},
   "source": [
    "## 1. Building Machine Learning Model for Predict Estimated Annual kWh Savings"
   ]
  },
  {
   "cell_type": "markdown",
   "metadata": {},
   "source": [
    "### Feature Engineering"
   ]
  },
  {
   "cell_type": "code",
   "execution_count": 10,
   "metadata": {},
   "outputs": [],
   "source": [
    "X1 = df.drop(['First Year Energy Savings $ Estimate', 'Estimated Annual MMBtu Savings',\n",
    "       'Homeowner Received Green Jobs-Green NY Free/Reduced Cost Audit (Y/N)','Estimated Annual kWh Savings'],axis=1)\n",
    "y1 = df['Estimated Annual kWh Savings']"
   ]
  },
  {
   "cell_type": "markdown",
   "metadata": {},
   "source": [
    "### Train,Test,Split Model"
   ]
  },
  {
   "cell_type": "code",
   "execution_count": 11,
   "metadata": {},
   "outputs": [],
   "source": [
    "X1_train, X1_test, y1_train, y1_test = train_test_split(X1,y1,test_size=0.2,random_state=101)"
   ]
  },
  {
   "cell_type": "markdown",
   "metadata": {},
   "source": [
    "### Check the best model to predict this target"
   ]
  },
  {
   "cell_type": "code",
   "execution_count": 12,
   "metadata": {},
   "outputs": [],
   "source": [
    "def Lasso_Ridge_Regression(n_cv,x,y,alpha_score):\n",
    "    score = []\n",
    "    model_name = ['Lasso','Ridge']\n",
    "    models = [Lasso,Ridge]\n",
    "    \n",
    "    for item in models:\n",
    "        mae = []\n",
    "        rmse = []\n",
    "        r2score = []\n",
    "        kf = KFold(n_splits=n_cv,shuffle=True,random_state=101)\n",
    "        for train_index , test_index in kf.split(x,y):\n",
    "            X_train,X_test,y_train,y_test = x.iloc[train_index],x.iloc[test_index],y.iloc[train_index],y.iloc[test_index]\n",
    "            model = item(alpha=alpha_score)\n",
    "            model.fit(X_train,y_train)\n",
    "            prediction = model.predict(X_test)\n",
    "            mae.append(round(mean_absolute_error(y_test,prediction),1))\n",
    "            rmse.append(round(np.sqrt(mean_squared_error(y_test,prediction)),1))\n",
    "            r2score.append(round(metrics.r2_score(y_test,prediction),1))            \n",
    "\n",
    "        temp = [\n",
    "            sum(mae)/n_cv,\n",
    "            sum(rmse)/n_cv,\n",
    "            sum(r2score)/n_cv\n",
    "        ]\n",
    "        score.append(temp)\n",
    "    return pd.DataFrame(score,columns=['MAE','RMSE','R2Score'],index=model_name).sort_values(by='R2Score',ascending=False)"
   ]
  },
  {
   "cell_type": "code",
   "execution_count": 13,
   "metadata": {
    "scrolled": true
   },
   "outputs": [
    {
     "data": {
      "text/html": [
       "<div>\n",
       "<style scoped>\n",
       "    .dataframe tbody tr th:only-of-type {\n",
       "        vertical-align: middle;\n",
       "    }\n",
       "\n",
       "    .dataframe tbody tr th {\n",
       "        vertical-align: top;\n",
       "    }\n",
       "\n",
       "    .dataframe thead th {\n",
       "        text-align: right;\n",
       "    }\n",
       "</style>\n",
       "<table border=\"1\" class=\"dataframe\">\n",
       "  <thead>\n",
       "    <tr style=\"text-align: right;\">\n",
       "      <th></th>\n",
       "      <th>MAE</th>\n",
       "      <th>RMSE</th>\n",
       "      <th>R2Score</th>\n",
       "    </tr>\n",
       "  </thead>\n",
       "  <tbody>\n",
       "    <tr>\n",
       "      <td>Lasso</td>\n",
       "      <td>436.54</td>\n",
       "      <td>1061.32</td>\n",
       "      <td>0.3</td>\n",
       "    </tr>\n",
       "    <tr>\n",
       "      <td>Ridge</td>\n",
       "      <td>436.72</td>\n",
       "      <td>1061.58</td>\n",
       "      <td>0.3</td>\n",
       "    </tr>\n",
       "  </tbody>\n",
       "</table>\n",
       "</div>"
      ],
      "text/plain": [
       "          MAE     RMSE  R2Score\n",
       "Lasso  436.54  1061.32      0.3\n",
       "Ridge  436.72  1061.58      0.3"
      ]
     },
     "execution_count": 13,
     "metadata": {},
     "output_type": "execute_result"
    }
   ],
   "source": [
    "Lasso_Ridge_Regression(5,X1,y1,0.1)"
   ]
  },
  {
   "cell_type": "markdown",
   "metadata": {},
   "source": [
    "> I use separate function on Lasso and Ridge regression because there are value of alpha that must to include in those model but not for the others models. For the other models I use function like below"
   ]
  },
  {
   "cell_type": "code",
   "execution_count": 14,
   "metadata": {},
   "outputs": [],
   "source": [
    "def regression_model(n_cv,x,y):\n",
    "    score = []\n",
    "    model_name = ['Linear Regression','DecisionTreeRegressor','RandomForestRegressor','GradientBoostingRegressor','XGBRegressor']\n",
    "    models = [LinearRegression,DecisionTreeRegressor,RandomForestRegressor,GradientBoostingRegressor,XGBRegressor]\n",
    "    \n",
    "    for item in models:\n",
    "        mae = []\n",
    "        rmse = []\n",
    "        r2score = []\n",
    "        kf = KFold(n_splits=n_cv,shuffle=True,random_state=101)\n",
    "        for train_index , test_index in kf.split(x,y):\n",
    "            X_train,X_test,y_train,y_test = x.iloc[train_index],x.iloc[test_index],y.iloc[train_index],y.iloc[test_index]\n",
    "            model = item()\n",
    "            model.fit(X_train,y_train)\n",
    "            prediction = model.predict(X_test)\n",
    "            mae.append(round(mean_absolute_error(y_test,prediction),1))\n",
    "            rmse.append(round(np.sqrt(mean_squared_error(y_test,prediction)),1))\n",
    "            r2score.append(round(metrics.r2_score(y_test,prediction),1))            \n",
    "\n",
    "        temp = [\n",
    "            sum(mae)/n_cv,\n",
    "            sum(rmse)/n_cv,\n",
    "            sum(r2score)/n_cv\n",
    "        ]\n",
    "        score.append(temp)\n",
    "    return pd.DataFrame(score,columns=['MAE','RMSE','R2Score'],index=model_name).sort_values(by='R2Score',ascending=False)"
   ]
  },
  {
   "cell_type": "code",
   "execution_count": 15,
   "metadata": {},
   "outputs": [
    {
     "data": {
      "text/html": [
       "<div>\n",
       "<style scoped>\n",
       "    .dataframe tbody tr th:only-of-type {\n",
       "        vertical-align: middle;\n",
       "    }\n",
       "\n",
       "    .dataframe tbody tr th {\n",
       "        vertical-align: top;\n",
       "    }\n",
       "\n",
       "    .dataframe thead th {\n",
       "        text-align: right;\n",
       "    }\n",
       "</style>\n",
       "<table border=\"1\" class=\"dataframe\">\n",
       "  <thead>\n",
       "    <tr style=\"text-align: right;\">\n",
       "      <th></th>\n",
       "      <th>MAE</th>\n",
       "      <th>RMSE</th>\n",
       "      <th>R2Score</th>\n",
       "    </tr>\n",
       "  </thead>\n",
       "  <tbody>\n",
       "    <tr>\n",
       "      <td>GradientBoostingRegressor</td>\n",
       "      <td>383.12</td>\n",
       "      <td>987.34</td>\n",
       "      <td>0.42</td>\n",
       "    </tr>\n",
       "    <tr>\n",
       "      <td>RandomForestRegressor</td>\n",
       "      <td>372.44</td>\n",
       "      <td>1017.58</td>\n",
       "      <td>0.36</td>\n",
       "    </tr>\n",
       "    <tr>\n",
       "      <td>XGBRegressor</td>\n",
       "      <td>377.60</td>\n",
       "      <td>1030.88</td>\n",
       "      <td>0.34</td>\n",
       "    </tr>\n",
       "    <tr>\n",
       "      <td>Linear Regression</td>\n",
       "      <td>436.72</td>\n",
       "      <td>1061.62</td>\n",
       "      <td>0.30</td>\n",
       "    </tr>\n",
       "    <tr>\n",
       "      <td>DecisionTreeRegressor</td>\n",
       "      <td>467.80</td>\n",
       "      <td>1388.56</td>\n",
       "      <td>-0.18</td>\n",
       "    </tr>\n",
       "  </tbody>\n",
       "</table>\n",
       "</div>"
      ],
      "text/plain": [
       "                              MAE     RMSE  R2Score\n",
       "GradientBoostingRegressor  383.12   987.34     0.42\n",
       "RandomForestRegressor      372.44  1017.58     0.36\n",
       "XGBRegressor               377.60  1030.88     0.34\n",
       "Linear Regression          436.72  1061.62     0.30\n",
       "DecisionTreeRegressor      467.80  1388.56    -0.18"
      ]
     },
     "execution_count": 15,
     "metadata": {},
     "output_type": "execute_result"
    }
   ],
   "source": [
    "regression_model(5,X1,y1)"
   ]
  },
  {
   "cell_type": "markdown",
   "metadata": {},
   "source": [
    "> Based on default parameter and R2Score, I use GradientBoostingRegressor to predict the value of target because GradientBoostingRegressor have a best R2Score"
   ]
  },
  {
   "cell_type": "markdown",
   "metadata": {},
   "source": [
    "**Modelling with GradientBoostingRegressor**"
   ]
  },
  {
   "cell_type": "code",
   "execution_count": 16,
   "metadata": {},
   "outputs": [
    {
     "name": "stdout",
     "output_type": "stream",
     "text": [
      "MAE : 387.87323584277186\n",
      "MSE : 1052859.1159894087\n",
      "RMSE : 1026.0892339311472\n",
      "R2_Score : 45.317016505424846%\n"
     ]
    }
   ],
   "source": [
    "model = GradientBoostingRegressor(random_state=101)\n",
    "model.fit(X1_train, y1_train)\n",
    "prediction = model.predict(X1_test)\n",
    "print(f'MAE : {metrics.mean_absolute_error(y1_test,prediction)}')\n",
    "print(f'MSE : {metrics.mean_squared_error(y1_test,prediction)}')\n",
    "print(f'RMSE : {np.sqrt(metrics.mean_squared_error(y1_test,prediction))}')\n",
    "print(f'R2_Score : {(metrics.r2_score(y1_test,prediction))*100}%')"
   ]
  },
  {
   "cell_type": "code",
   "execution_count": 17,
   "metadata": {
    "scrolled": true
   },
   "outputs": [
    {
     "data": {
      "text/plain": [
       "<matplotlib.axes._subplots.AxesSubplot at 0xac97b99a88>"
      ]
     },
     "execution_count": 17,
     "metadata": {},
     "output_type": "execute_result"
    },
    {
     "data": {
      "image/png": "[encoded data removed]",
      "text/plain": [
       "<Figure size 720x432 with 1 Axes>"
      ]
     },
     "metadata": {
      "needs_background": "light"
     },
     "output_type": "display_data"
    }
   ],
   "source": [
    "plt.figure(figsize=(10,6))\n",
    "sns.scatterplot(prediction,y1_test)\n",
    "plt.show()"
   ]
  },
  {
   "cell_type": "code",
   "execution_count": 18,
   "metadata": {},
   "outputs": [
    {
     "data": {
      "text/plain": [
       "<matplotlib.axes._subplots.AxesSubplot at 0xac98089f08>"
      ]
     },
     "execution_count": 18,
     "metadata": {},
     "output_type": "execute_result"
    },
    {
     "data": {
      "image/png": "[encoded data removed]",
      "text/plain": [
       "<Figure size 1080x576 with 1 Axes>"
      ]
     },
     "metadata": {
      "needs_background": "light"
     },
     "output_type": "display_data"
    }
   ],
   "source": [
    "plt.figure(figsize=(15,8))\n",
    "feature_importance = pd.Series(model.feature_importances_,index=X1.columns).sort_values(ascending=False).head(10)\n",
    "sns.barplot(x=feature_importance.values , y = feature_importance.index)\n",
    "plt.show()"
   ]
  },
  {
   "cell_type": "markdown",
   "metadata": {},
   "source": [
    "> This regression is not really good model, I assume is because the features doesn't have enough correlation with the target"
   ]
  },
  {
   "cell_type": "markdown",
   "metadata": {},
   "source": [
    "## 2. Building Machine Learning Model for Predict Estimated Annual MMBtu Savings"
   ]
  },
  {
   "cell_type": "markdown",
   "metadata": {},
   "source": [
    "### Feature Engineering"
   ]
  },
  {
   "cell_type": "code",
   "execution_count": 19,
   "metadata": {},
   "outputs": [],
   "source": [
    "X2 = df.drop(['First Year Energy Savings $ Estimate', 'Estimated Annual MMBtu Savings',\n",
    "       'Homeowner Received Green Jobs-Green NY Free/Reduced Cost Audit (Y/N)','Estimated Annual kWh Savings'],axis=1)\n",
    "y2 = df['Estimated Annual MMBtu Savings']"
   ]
  },
  {
   "cell_type": "markdown",
   "metadata": {},
   "source": [
    "### Train,Test,Split Model"
   ]
  },
  {
   "cell_type": "code",
   "execution_count": 20,
   "metadata": {},
   "outputs": [],
   "source": [
    "X2_train, X2_test, y2_train, y2_test = train_test_split(X2,y2,test_size=0.2,random_state=101)"
   ]
  },
  {
   "cell_type": "markdown",
   "metadata": {},
   "source": [
    "### Check the best model to predict this target"
   ]
  },
  {
   "cell_type": "code",
   "execution_count": 21,
   "metadata": {},
   "outputs": [
    {
     "data": {
      "text/html": [
       "<div>\n",
       "<style scoped>\n",
       "    .dataframe tbody tr th:only-of-type {\n",
       "        vertical-align: middle;\n",
       "    }\n",
       "\n",
       "    .dataframe tbody tr th {\n",
       "        vertical-align: top;\n",
       "    }\n",
       "\n",
       "    .dataframe thead th {\n",
       "        text-align: right;\n",
       "    }\n",
       "</style>\n",
       "<table border=\"1\" class=\"dataframe\">\n",
       "  <thead>\n",
       "    <tr style=\"text-align: right;\">\n",
       "      <th></th>\n",
       "      <th>MAE</th>\n",
       "      <th>RMSE</th>\n",
       "      <th>R2Score</th>\n",
       "    </tr>\n",
       "  </thead>\n",
       "  <tbody>\n",
       "    <tr>\n",
       "      <td>Lasso</td>\n",
       "      <td>12.22</td>\n",
       "      <td>17.56</td>\n",
       "      <td>0.3</td>\n",
       "    </tr>\n",
       "    <tr>\n",
       "      <td>Ridge</td>\n",
       "      <td>12.20</td>\n",
       "      <td>17.48</td>\n",
       "      <td>0.3</td>\n",
       "    </tr>\n",
       "  </tbody>\n",
       "</table>\n",
       "</div>"
      ],
      "text/plain": [
       "         MAE   RMSE  R2Score\n",
       "Lasso  12.22  17.56      0.3\n",
       "Ridge  12.20  17.48      0.3"
      ]
     },
     "execution_count": 21,
     "metadata": {},
     "output_type": "execute_result"
    }
   ],
   "source": [
    "Lasso_Ridge_Regression(5,X2,y2,0.1)"
   ]
  },
  {
   "cell_type": "code",
   "execution_count": 22,
   "metadata": {},
   "outputs": [
    {
     "data": {
      "text/html": [
       "<div>\n",
       "<style scoped>\n",
       "    .dataframe tbody tr th:only-of-type {\n",
       "        vertical-align: middle;\n",
       "    }\n",
       "\n",
       "    .dataframe tbody tr th {\n",
       "        vertical-align: top;\n",
       "    }\n",
       "\n",
       "    .dataframe thead th {\n",
       "        text-align: right;\n",
       "    }\n",
       "</style>\n",
       "<table border=\"1\" class=\"dataframe\">\n",
       "  <thead>\n",
       "    <tr style=\"text-align: right;\">\n",
       "      <th></th>\n",
       "      <th>MAE</th>\n",
       "      <th>RMSE</th>\n",
       "      <th>R2Score</th>\n",
       "    </tr>\n",
       "  </thead>\n",
       "  <tbody>\n",
       "    <tr>\n",
       "      <td>GradientBoostingRegressor</td>\n",
       "      <td>11.22</td>\n",
       "      <td>16.56</td>\n",
       "      <td>0.36</td>\n",
       "    </tr>\n",
       "    <tr>\n",
       "      <td>XGBRegressor</td>\n",
       "      <td>10.74</td>\n",
       "      <td>16.36</td>\n",
       "      <td>0.36</td>\n",
       "    </tr>\n",
       "    <tr>\n",
       "      <td>Linear Regression</td>\n",
       "      <td>12.20</td>\n",
       "      <td>17.48</td>\n",
       "      <td>0.30</td>\n",
       "    </tr>\n",
       "    <tr>\n",
       "      <td>RandomForestRegressor</td>\n",
       "      <td>10.90</td>\n",
       "      <td>16.78</td>\n",
       "      <td>0.30</td>\n",
       "    </tr>\n",
       "    <tr>\n",
       "      <td>DecisionTreeRegressor</td>\n",
       "      <td>14.78</td>\n",
       "      <td>23.14</td>\n",
       "      <td>-0.28</td>\n",
       "    </tr>\n",
       "  </tbody>\n",
       "</table>\n",
       "</div>"
      ],
      "text/plain": [
       "                             MAE   RMSE  R2Score\n",
       "GradientBoostingRegressor  11.22  16.56     0.36\n",
       "XGBRegressor               10.74  16.36     0.36\n",
       "Linear Regression          12.20  17.48     0.30\n",
       "RandomForestRegressor      10.90  16.78     0.30\n",
       "DecisionTreeRegressor      14.78  23.14    -0.28"
      ]
     },
     "execution_count": 22,
     "metadata": {},
     "output_type": "execute_result"
    }
   ],
   "source": [
    "regression_model(5,X2,y2)"
   ]
  },
  {
   "cell_type": "markdown",
   "metadata": {},
   "source": [
    "> Based on default parameter and R2Score with MAE and RMSE, I use XGBRegressor to predict the value of target because XGBRegressor have a best R2Score, and least for a number of RMSE"
   ]
  },
  {
   "cell_type": "code",
   "execution_count": 23,
   "metadata": {},
   "outputs": [
    {
     "name": "stdout",
     "output_type": "stream",
     "text": [
      "MAE : 10.584681095952565\n",
      "MSE : 252.98990351434838\n",
      "RMSE : 15.905656337113172\n",
      "R2_Score : 38.247157336169394%\n"
     ]
    }
   ],
   "source": [
    "xgbr = XGBRegressor(random_state=101)\n",
    "xgbr.fit(X2_train, y2_train)\n",
    "prediction = xgbr.predict(X2_test)\n",
    "print(f'MAE : {metrics.mean_absolute_error(y2_test,prediction)}')\n",
    "print(f'MSE : {metrics.mean_squared_error(y2_test,prediction)}')\n",
    "print(f'RMSE : {np.sqrt(metrics.mean_squared_error(y2_test,prediction))}')\n",
    "print(f'R2_Score : {(metrics.r2_score(y2_test,prediction))*100}%')"
   ]
  },
  {
   "cell_type": "code",
   "execution_count": 24,
   "metadata": {
    "scrolled": true
   },
   "outputs": [
    {
     "data": {
      "image/png": "[encoded data removed]",
      "text/plain": [
       "<Figure size 1080x360 with 1 Axes>"
      ]
     },
     "metadata": {
      "needs_background": "light"
     },
     "output_type": "display_data"
    }
   ],
   "source": [
    "plt.figure(figsize=(15,5))\n",
    "x_ax = range(len(y2_test))\n",
    "plt.scatter(x_ax, y2_test, s=3, color=\"blue\", label=\"original\")\n",
    "plt.plot(x_ax, prediction, lw=0.5, color=\"red\", label=\"predicted\")\n",
    "plt.xlim(0,100)\n",
    "plt.ylim(-25,80)\n",
    "plt.legend()\n",
    "plt.show()"
   ]
  },
  {
   "cell_type": "code",
   "execution_count": 25,
   "metadata": {},
   "outputs": [
    {
     "data": {
      "text/plain": [
       "<matplotlib.axes._subplots.AxesSubplot at 0xac98077d48>"
      ]
     },
     "execution_count": 25,
     "metadata": {},
     "output_type": "execute_result"
    },
    {
     "data": {
      "image/png": "[encoded data removed]",
      "text/plain": [
       "<Figure size 1080x576 with 1 Axes>"
      ]
     },
     "metadata": {
      "needs_background": "light"
     },
     "output_type": "display_data"
    }
   ],
   "source": [
    "plt.figure(figsize=(15,8))\n",
    "feature_importance = pd.Series(xgbr.feature_importances_,index=X2.columns).sort_values(ascending=False).head(10)\n",
    "sns.barplot(x=feature_importance.values , y = feature_importance.index)\n",
    "plt.show()"
   ]
  },
  {
   "cell_type": "markdown",
   "metadata": {},
   "source": [
    "> This regression too is not really good model, I assume is because the features doesn't have enough correlation with the target"
   ]
  },
  {
   "cell_type": "markdown",
   "metadata": {},
   "source": [
    "## 3. Building Machine Learning Model for Predict First Year Energy Savings $ Estimate"
   ]
  },
  {
   "cell_type": "markdown",
   "metadata": {},
   "source": [
    "### Feature Engineering"
   ]
  },
  {
   "cell_type": "code",
   "execution_count": 26,
   "metadata": {},
   "outputs": [],
   "source": [
    "X3 = df[['Estimated Annual MMBtu Savings','Estimated Annual kWh Savings']]\n",
    "y3 = df['First Year Energy Savings $ Estimate']"
   ]
  },
  {
   "cell_type": "markdown",
   "metadata": {},
   "source": [
    "> I use only two columns to become features columns, because in my assumption those columns are representative for the target colum"
   ]
  },
  {
   "cell_type": "markdown",
   "metadata": {},
   "source": [
    "### Train, Test, Split Model"
   ]
  },
  {
   "cell_type": "code",
   "execution_count": 27,
   "metadata": {},
   "outputs": [],
   "source": [
    "X3_train, X3_test, y3_train, y3_test = train_test_split(X3,y3,test_size=0.2,random_state=101)"
   ]
  },
  {
   "cell_type": "markdown",
   "metadata": {},
   "source": [
    "### Check the best model to predict this target"
   ]
  },
  {
   "cell_type": "code",
   "execution_count": 28,
   "metadata": {},
   "outputs": [
    {
     "data": {
      "text/html": [
       "<div>\n",
       "<style scoped>\n",
       "    .dataframe tbody tr th:only-of-type {\n",
       "        vertical-align: middle;\n",
       "    }\n",
       "\n",
       "    .dataframe tbody tr th {\n",
       "        vertical-align: top;\n",
       "    }\n",
       "\n",
       "    .dataframe thead th {\n",
       "        text-align: right;\n",
       "    }\n",
       "</style>\n",
       "<table border=\"1\" class=\"dataframe\">\n",
       "  <thead>\n",
       "    <tr style=\"text-align: right;\">\n",
       "      <th></th>\n",
       "      <th>MAE</th>\n",
       "      <th>RMSE</th>\n",
       "      <th>R2Score</th>\n",
       "    </tr>\n",
       "  </thead>\n",
       "  <tbody>\n",
       "    <tr>\n",
       "      <td>Lasso</td>\n",
       "      <td>221.46</td>\n",
       "      <td>385.12</td>\n",
       "      <td>0.4</td>\n",
       "    </tr>\n",
       "    <tr>\n",
       "      <td>Ridge</td>\n",
       "      <td>221.46</td>\n",
       "      <td>385.12</td>\n",
       "      <td>0.4</td>\n",
       "    </tr>\n",
       "  </tbody>\n",
       "</table>\n",
       "</div>"
      ],
      "text/plain": [
       "          MAE    RMSE  R2Score\n",
       "Lasso  221.46  385.12      0.4\n",
       "Ridge  221.46  385.12      0.4"
      ]
     },
     "execution_count": 28,
     "metadata": {},
     "output_type": "execute_result"
    }
   ],
   "source": [
    "Lasso_Ridge_Regression(5,X3,y3,0.1)"
   ]
  },
  {
   "cell_type": "code",
   "execution_count": 29,
   "metadata": {},
   "outputs": [
    {
     "data": {
      "text/html": [
       "<div>\n",
       "<style scoped>\n",
       "    .dataframe tbody tr th:only-of-type {\n",
       "        vertical-align: middle;\n",
       "    }\n",
       "\n",
       "    .dataframe tbody tr th {\n",
       "        vertical-align: top;\n",
       "    }\n",
       "\n",
       "    .dataframe thead th {\n",
       "        text-align: right;\n",
       "    }\n",
       "</style>\n",
       "<table border=\"1\" class=\"dataframe\">\n",
       "  <thead>\n",
       "    <tr style=\"text-align: right;\">\n",
       "      <th></th>\n",
       "      <th>MAE</th>\n",
       "      <th>RMSE</th>\n",
       "      <th>R2Score</th>\n",
       "    </tr>\n",
       "  </thead>\n",
       "  <tbody>\n",
       "    <tr>\n",
       "      <td>GradientBoostingRegressor</td>\n",
       "      <td>204.08</td>\n",
       "      <td>371.08</td>\n",
       "      <td>0.50</td>\n",
       "    </tr>\n",
       "    <tr>\n",
       "      <td>XGBRegressor</td>\n",
       "      <td>203.26</td>\n",
       "      <td>377.04</td>\n",
       "      <td>0.46</td>\n",
       "    </tr>\n",
       "    <tr>\n",
       "      <td>Linear Regression</td>\n",
       "      <td>221.46</td>\n",
       "      <td>385.12</td>\n",
       "      <td>0.40</td>\n",
       "    </tr>\n",
       "    <tr>\n",
       "      <td>RandomForestRegressor</td>\n",
       "      <td>208.80</td>\n",
       "      <td>387.04</td>\n",
       "      <td>0.40</td>\n",
       "    </tr>\n",
       "    <tr>\n",
       "      <td>DecisionTreeRegressor</td>\n",
       "      <td>222.76</td>\n",
       "      <td>424.22</td>\n",
       "      <td>0.30</td>\n",
       "    </tr>\n",
       "  </tbody>\n",
       "</table>\n",
       "</div>"
      ],
      "text/plain": [
       "                              MAE    RMSE  R2Score\n",
       "GradientBoostingRegressor  204.08  371.08     0.50\n",
       "XGBRegressor               203.26  377.04     0.46\n",
       "Linear Regression          221.46  385.12     0.40\n",
       "RandomForestRegressor      208.80  387.04     0.40\n",
       "DecisionTreeRegressor      222.76  424.22     0.30"
      ]
     },
     "execution_count": 29,
     "metadata": {},
     "output_type": "execute_result"
    }
   ],
   "source": [
    "regression_model(5,X3,y3)"
   ]
  },
  {
   "cell_type": "code",
   "execution_count": 30,
   "metadata": {},
   "outputs": [
    {
     "name": "stdout",
     "output_type": "stream",
     "text": [
      "MAE : 206.94243772267964\n",
      "MSE : 144332.7025488758\n",
      "RMSE : 379.9114404027283\n",
      "R2_Score : 46.04016580563284%\n"
     ]
    }
   ],
   "source": [
    "gbr = GradientBoostingRegressor(random_state=101)\n",
    "gbr.fit(X3_train, y3_train)\n",
    "prediction = gbr.predict(X3_test)\n",
    "print(f'MAE : {metrics.mean_absolute_error(y3_test,prediction)}')\n",
    "print(f'MSE : {metrics.mean_squared_error(y3_test,prediction)}')\n",
    "print(f'RMSE : {np.sqrt(metrics.mean_squared_error(y3_test,prediction))}')\n",
    "print(f'R2_Score : {(metrics.r2_score(y3_test,prediction))*100}%')"
   ]
  },
  {
   "cell_type": "code",
   "execution_count": 31,
   "metadata": {},
   "outputs": [
    {
     "data": {
      "image/png": "[encoded data removed]",
      "text/plain": [
       "<Figure size 432x288 with 1 Axes>"
      ]
     },
     "metadata": {
      "needs_background": "light"
     },
     "output_type": "display_data"
    }
   ],
   "source": [
    "sns.scatterplot(prediction,y3_test)\n",
    "plt.show()"
   ]
  },
  {
   "cell_type": "code",
   "execution_count": 32,
   "metadata": {
    "scrolled": true
   },
   "outputs": [
    {
     "data": {
      "image/png": "[encoded data removed]",
      "text/plain": [
       "<Figure size 432x288 with 1 Axes>"
      ]
     },
     "metadata": {
      "needs_background": "light"
     },
     "output_type": "display_data"
    }
   ],
   "source": [
    "sns.distplot((y3_test-prediction))\n",
    "plt.show()"
   ]
  },
  {
   "cell_type": "markdown",
   "metadata": {},
   "source": [
    "> This regression still is not really good model, but it better from two previous models, I assume is because the lack number of features that have enough correlation with the target"
   ]
  },
  {
   "cell_type": "markdown",
   "metadata": {},
   "source": [
    "## 4. Building Machine Learning Model for Predict Classification for Homeowner Received Green Jobs-Green NY Free/Reduced Cost Audit (Y/N)"
   ]
  },
  {
   "cell_type": "markdown",
   "metadata": {},
   "source": [
    "### Feature Engineering"
   ]
  },
  {
   "cell_type": "code",
   "execution_count": 33,
   "metadata": {},
   "outputs": [],
   "source": [
    "features = df.drop(['Homeowner Received Green Jobs-Green NY Free/Reduced Cost Audit (Y/N)'],axis=1)\n",
    "target = df['Homeowner Received Green Jobs-Green NY Free/Reduced Cost Audit (Y/N)']"
   ]
  },
  {
   "cell_type": "code",
   "execution_count": 34,
   "metadata": {
    "scrolled": true
   },
   "outputs": [
    {
     "data": {
      "image/png": "[encoded data removed]",
      "text/plain": [
       "<Figure size 576x360 with 1 Axes>"
      ]
     },
     "metadata": {
      "needs_background": "light"
     },
     "output_type": "display_data"
    }
   ],
   "source": [
    "# Check data balance\n",
    "plt.figure(figsize=(8,5))\n",
    "plt.title('Distribution data in Target column')\n",
    "sns.countplot(data= df, x='Homeowner Received Green Jobs-Green NY Free/Reduced Cost Audit (Y/N)',order = df['Homeowner Received Green Jobs-Green NY Free/Reduced Cost Audit (Y/N)'].value_counts().index)\n",
    "plt.ylabel('Value')\n",
    "plt.show()"
   ]
  },
  {
   "cell_type": "markdown",
   "metadata": {},
   "source": [
    "> We can take conclusion from the barplot that data in target is imbalance, I will use SMOTE method to balancing this data"
   ]
  },
  {
   "cell_type": "markdown",
   "metadata": {},
   "source": [
    "### Check the Best Model to Classification"
   ]
  },
  {
   "cell_type": "code",
   "execution_count": 35,
   "metadata": {},
   "outputs": [
    {
     "data": {
      "image/png": "[encoded data removed]",
      "text/plain": [
       "<Figure size 936x360 with 1 Axes>"
      ]
     },
     "metadata": {
      "needs_background": "light"
     },
     "output_type": "display_data"
    },
    {
     "data": {
      "text/html": [
       "<div>\n",
       "<style scoped>\n",
       "    .dataframe tbody tr th:only-of-type {\n",
       "        vertical-align: middle;\n",
       "    }\n",
       "\n",
       "    .dataframe tbody tr th {\n",
       "        vertical-align: top;\n",
       "    }\n",
       "\n",
       "    .dataframe thead th {\n",
       "        text-align: right;\n",
       "    }\n",
       "</style>\n",
       "<table border=\"1\" class=\"dataframe\">\n",
       "  <thead>\n",
       "    <tr style=\"text-align: right;\">\n",
       "      <th></th>\n",
       "      <th>CVS</th>\n",
       "    </tr>\n",
       "  </thead>\n",
       "  <tbody>\n",
       "    <tr>\n",
       "      <td>GradientBoostingClassifier</td>\n",
       "      <td>0.843389</td>\n",
       "    </tr>\n",
       "    <tr>\n",
       "      <td>RandomForestClassifier</td>\n",
       "      <td>0.825628</td>\n",
       "    </tr>\n",
       "    <tr>\n",
       "      <td>XGBClassifier</td>\n",
       "      <td>0.822110</td>\n",
       "    </tr>\n",
       "    <tr>\n",
       "      <td>KNeighborsClassifier</td>\n",
       "      <td>0.764922</td>\n",
       "    </tr>\n",
       "    <tr>\n",
       "      <td>DecisionTreeClassifier</td>\n",
       "      <td>0.758893</td>\n",
       "    </tr>\n",
       "    <tr>\n",
       "      <td>LogisticRegression</td>\n",
       "      <td>0.729010</td>\n",
       "    </tr>\n",
       "  </tbody>\n",
       "</table>\n",
       "</div>"
      ],
      "text/plain": [
       "                                 CVS\n",
       "GradientBoostingClassifier  0.843389\n",
       "RandomForestClassifier      0.825628\n",
       "XGBClassifier               0.822110\n",
       "KNeighborsClassifier        0.764922\n",
       "DecisionTreeClassifier      0.758893\n",
       "LogisticRegression          0.729010"
      ]
     },
     "execution_count": 35,
     "metadata": {},
     "output_type": "execute_result"
    }
   ],
   "source": [
    "def find_CVS(features,target,model):\n",
    "    classification = model()\n",
    "    score = cross_val_score(classification,features, target, cv=5).mean()\n",
    "    return score\n",
    "\n",
    "algorithm = [LogisticRegression,DecisionTreeClassifier,RandomForestClassifier, GradientBoostingClassifier,\n",
    "             XGBClassifier, KNeighborsClassifier]\n",
    "\n",
    "all_CVS = []\n",
    "for item in algorithm :\n",
    "    score = find_CVS(features,target,item)\n",
    "    all_CVS.append(score)\n",
    "    \n",
    "df_CVS = pd.DataFrame(all_CVS,index=['LogisticRegression','DecisionTreeClassifier','RandomForestClassifier', \n",
    "                                     'GradientBoostingClassifier','XGBClassifier', 'KNeighborsClassifier'],columns=['CVS']).sort_values(by='CVS',ascending=False)\n",
    "\n",
    "plt.figure(figsize=(13,5))\n",
    "sns.barplot(y= df_CVS.index, x=df_CVS['CVS'])\n",
    "plt.xlabel('Score')\n",
    "plt.ylabel('Algorithm Name')\n",
    "plt.show()\n",
    "\n",
    "df_CVS"
   ]
  },
  {
   "cell_type": "markdown",
   "metadata": {},
   "source": [
    "> From cross validation score for every method, I will take three of the best CVS to evaluate with SMOTE data, those methods are GradientBoostingClassifier,RandomForestClassifier,and XGBClassifier"
   ]
  },
  {
   "cell_type": "code",
   "execution_count": 36,
   "metadata": {},
   "outputs": [
    {
     "data": {
      "text/html": [
       "<div>\n",
       "<style scoped>\n",
       "    .dataframe tbody tr th:only-of-type {\n",
       "        vertical-align: middle;\n",
       "    }\n",
       "\n",
       "    .dataframe tbody tr th {\n",
       "        vertical-align: top;\n",
       "    }\n",
       "\n",
       "    .dataframe thead th {\n",
       "        text-align: right;\n",
       "    }\n",
       "</style>\n",
       "<table border=\"1\" class=\"dataframe\">\n",
       "  <thead>\n",
       "    <tr style=\"text-align: right;\">\n",
       "      <th></th>\n",
       "      <th>accuracy_train</th>\n",
       "      <th>f1_train</th>\n",
       "      <th>recall_train</th>\n",
       "      <th>accuracy_test</th>\n",
       "      <th>f1_test</th>\n",
       "      <th>recall_test</th>\n",
       "    </tr>\n",
       "  </thead>\n",
       "  <tbody>\n",
       "    <tr>\n",
       "      <td>RandomForestClassifier</td>\n",
       "      <td>0.999981</td>\n",
       "      <td>0.999981</td>\n",
       "      <td>1.000000</td>\n",
       "      <td>0.895085</td>\n",
       "      <td>0.900033</td>\n",
       "      <td>0.948601</td>\n",
       "    </tr>\n",
       "    <tr>\n",
       "      <td>GradientBoostingClassifier</td>\n",
       "      <td>0.859296</td>\n",
       "      <td>0.874148</td>\n",
       "      <td>0.975932</td>\n",
       "      <td>0.850171</td>\n",
       "      <td>0.866259</td>\n",
       "      <td>0.974592</td>\n",
       "    </tr>\n",
       "    <tr>\n",
       "      <td>XGBClassifier</td>\n",
       "      <td>0.913651</td>\n",
       "      <td>0.918287</td>\n",
       "      <td>0.969017</td>\n",
       "      <td>0.882841</td>\n",
       "      <td>0.889883</td>\n",
       "      <td>0.950816</td>\n",
       "    </tr>\n",
       "  </tbody>\n",
       "</table>\n",
       "</div>"
      ],
      "text/plain": [
       "                            accuracy_train  f1_train  recall_train  \\\n",
       "RandomForestClassifier            0.999981  0.999981      1.000000   \n",
       "GradientBoostingClassifier        0.859296  0.874148      0.975932   \n",
       "XGBClassifier                     0.913651  0.918287      0.969017   \n",
       "\n",
       "                            accuracy_test   f1_test  recall_test  \n",
       "RandomForestClassifier           0.895085  0.900033     0.948601  \n",
       "GradientBoostingClassifier       0.850171  0.866259     0.974592  \n",
       "XGBClassifier                    0.882841  0.889883     0.950816  "
      ]
     },
     "execution_count": 36,
     "metadata": {},
     "output_type": "execute_result"
    }
   ],
   "source": [
    "def SMOTE_eval_method(features,target,model):\n",
    "    \n",
    "    sm = SMOTE(random_state=101)\n",
    "    X_sm, y_sm = sm.fit_sample(features,target)\n",
    "    \n",
    "    X_train, X_test, y_train, y_test = train_test_split(X_sm,y_sm,random_state=101)\n",
    "    classifcation = model()\n",
    "    classifcation.fit(X_train,y_train)\n",
    "    \n",
    "    ## For describe model underfitting or Overfitting\n",
    "    prediction_test = classifcation.predict(X_test)\n",
    "    prediction_train = classifcation.predict(X_train)\n",
    "    \n",
    "    # Evaluation Model Train After SMOTE\n",
    "    accuracy_train = accuracy_score(y_train,prediction_train)\n",
    "    f1_train = f1_score(y_train,prediction_train)\n",
    "    recall_train = recall_score(y_train,prediction_train)\n",
    "    \n",
    "    # Evaluation Model Data Test After SMOTE \n",
    "    accuracy_test = accuracy_score(y_test,prediction_test)\n",
    "    f1_test = f1_score(y_test,prediction_test)\n",
    "    recall_test = recall_score(y_test,prediction_test)\n",
    "    \n",
    "    all_score = [accuracy_train,f1_train,recall_train, accuracy_test,f1_test,recall_test]\n",
    "    return all_score\n",
    "\n",
    "all_score=[]\n",
    "best_algorithm = [RandomForestClassifier, GradientBoostingClassifier,XGBClassifier]\n",
    "for item in best_algorithm :\n",
    "    score = SMOTE_eval_method(features,target,item)\n",
    "    all_score.append(score)\n",
    "    \n",
    "df_score = pd.DataFrame(all_score,index=['RandomForestClassifier', 'GradientBoostingClassifier','XGBClassifier'],\n",
    "                        columns=['accuracy_train','f1_train','recall_train','accuracy_test','f1_test','recall_test'])\n",
    "df_score"
   ]
  },
  {
   "cell_type": "markdown",
   "metadata": {},
   "source": [
    "> From evaluation score for accuracy, f1 score, and recall score we can take conclusion to use RandomForestClassifier model for predict target"
   ]
  },
  {
   "cell_type": "markdown",
   "metadata": {},
   "source": [
    "**Modelling with Default Parameter**"
   ]
  },
  {
   "cell_type": "code",
   "execution_count": 37,
   "metadata": {
    "scrolled": true
   },
   "outputs": [
    {
     "name": "stdout",
     "output_type": "stream",
     "text": [
      "Classification for Data train\n",
      "              precision    recall  f1-score   support\n",
      "\n",
      "           0       1.00      1.00      1.00     25812\n",
      "           1       1.00      1.00      1.00     25885\n",
      "\n",
      "    accuracy                           1.00     51697\n",
      "   macro avg       1.00      1.00      1.00     51697\n",
      "weighted avg       1.00      1.00      1.00     51697\n",
      "\n",
      "[[25811     1]\n",
      " [    0 25885]]\n",
      "=========================================================\n",
      "Classification for Data Test\n",
      "              precision    recall  f1-score   support\n",
      "\n",
      "           0       0.94      0.84      0.89      8653\n",
      "           1       0.86      0.95      0.90      8580\n",
      "\n",
      "    accuracy                           0.89     17233\n",
      "   macro avg       0.90      0.90      0.89     17233\n",
      "weighted avg       0.90      0.89      0.89     17233\n",
      "\n",
      "[[7279 1374]\n",
      " [ 437 8143]]\n"
     ]
    }
   ],
   "source": [
    "sm = SMOTE(random_state=101)\n",
    "X_sm, y_sm = sm.fit_sample(features,target)\n",
    "    \n",
    "X_train, X_test, y_train, y_test = train_test_split(X_sm,y_sm,random_state=101)\n",
    "classification = RandomForestClassifier()\n",
    "classification.fit(X_train,y_train)\n",
    "    \n",
    "## For describe model underfitting or Overfitting\n",
    "prediction_test = classification.predict(X_test)\n",
    "prediction_train = classification.predict(X_train)\n",
    "    \n",
    "## Evaluation Model \n",
    "print('Classification for Data train')\n",
    "print(classification_report(y_train,prediction_train))\n",
    "print(confusion_matrix(y_train,prediction_train))\n",
    "print('=========================================================')\n",
    "print('Classification for Data Test')\n",
    "print(classification_report(y_test,prediction_test))\n",
    "print(confusion_matrix(y_test,prediction_test))"
   ]
  },
  {
   "cell_type": "markdown",
   "metadata": {},
   "source": [
    "> From the Classification report, we can conclude that this model is good enough, because doesn't occur either Underfitting or Overfitting from the model. But, let see if using Hyperparameter tuning can produce better model"
   ]
  },
  {
   "cell_type": "markdown",
   "metadata": {},
   "source": [
    "**HyperParameter tuning with GridSearchCV Methods**"
   ]
  },
  {
   "cell_type": "code",
   "execution_count": 38,
   "metadata": {},
   "outputs": [
    {
     "name": "stdout",
     "output_type": "stream",
     "text": [
      "Best Parameter for this Model: {'bootstrap': False, 'max_depth': 100, 'min_samples_leaf': 20, 'min_samples_split': 50, 'n_estimators': 200}\n",
      "Best Score for this Model: 0.8685804157908333 \n",
      "\n",
      "              precision    recall  f1-score   support\n",
      "\n",
      "           0       0.97      0.75      0.85      8653\n",
      "           1       0.80      0.98      0.88      8580\n",
      "\n",
      "    accuracy                           0.86     17233\n",
      "   macro avg       0.88      0.87      0.86     17233\n",
      "weighted avg       0.88      0.86      0.86     17233\n",
      "\n"
     ]
    },
    {
     "data": {
      "text/html": [
       "<div>\n",
       "<style scoped>\n",
       "    .dataframe tbody tr th:only-of-type {\n",
       "        vertical-align: middle;\n",
       "    }\n",
       "\n",
       "    .dataframe tbody tr th {\n",
       "        vertical-align: top;\n",
       "    }\n",
       "\n",
       "    .dataframe thead th {\n",
       "        text-align: right;\n",
       "    }\n",
       "</style>\n",
       "<table border=\"1\" class=\"dataframe\">\n",
       "  <thead>\n",
       "    <tr style=\"text-align: right;\">\n",
       "      <th></th>\n",
       "      <th>Predict No</th>\n",
       "      <th>Predict Yes</th>\n",
       "    </tr>\n",
       "  </thead>\n",
       "  <tbody>\n",
       "    <tr>\n",
       "      <td>Act No</td>\n",
       "      <td>6524</td>\n",
       "      <td>2129</td>\n",
       "    </tr>\n",
       "    <tr>\n",
       "      <td>Act Yes</td>\n",
       "      <td>204</td>\n",
       "      <td>8376</td>\n",
       "    </tr>\n",
       "  </tbody>\n",
       "</table>\n",
       "</div>"
      ],
      "text/plain": [
       "         Predict No  Predict Yes\n",
       "Act No         6524         2129\n",
       "Act Yes         204         8376"
      ]
     },
     "execution_count": 38,
     "metadata": {},
     "output_type": "execute_result"
    }
   ],
   "source": [
    "model = RandomForestClassifier()\n",
    "parameters = {\n",
    "    'n_estimators' : [50,100,200],\n",
    "    'max_depth' : [int(x) for x in np.linspace(100,150,3)],\n",
    "    'min_samples_leaf': [int(x) for x in np.linspace(20,50,3)],\n",
    "    'min_samples_split': [50,80],\n",
    "    'bootstrap': [True,False]\n",
    "}\n",
    "search = GridSearchCV(estimator=model,param_grid=parameters,scoring='accuracy',cv=3)\n",
    "search.fit(X_train,y_train)\n",
    "best_params = search.best_params_\n",
    "best_score = search.best_score_\n",
    "print(f'Best Parameter for this Model: {best_params} \\n')\n",
    "print(f'Best Score for this Model: {best_score} \\n')\n",
    "print(classification_report(y_test,search.predict(X_test)))\n",
    "pd.DataFrame(data=confusion_matrix(y_test,search.predict(X_test)),columns = ['Predict No','Predict Yes'],index = ['Act No','Act Yes'])\n"
   ]
  },
  {
   "cell_type": "markdown",
   "metadata": {},
   "source": [
    "> Result evaluation model from Hyperparameter Tuning is not better from using default parameter for this model, so I choose to use default parameter to predict target "
   ]
  },
  {
   "cell_type": "markdown",
   "metadata": {},
   "source": [
    "**ROC-AUC Evaluation**"
   ]
  },
  {
   "cell_type": "code",
   "execution_count": 39,
   "metadata": {},
   "outputs": [
    {
     "name": "stdout",
     "output_type": "stream",
     "text": [
      "ROC AUC Score = 0.895139369856231\n"
     ]
    },
    {
     "data": {
      "image/png": "[encoded data removed]",
      "text/plain": [
       "<Figure size 720x504 with 1 Axes>"
      ]
     },
     "metadata": {
      "needs_background": "light"
     },
     "output_type": "display_data"
    }
   ],
   "source": [
    "# ROC-AUC\n",
    "prediction_proba = classification.predict_proba(X_test)\n",
    "Pred_AUC = prediction_proba[:,1]\n",
    "FPR,TPR,Threshold = roc_curve(y_test,Pred_AUC)\n",
    "roc_auc = auc(FPR,TPR)\n",
    "\n",
    "# Garis ROC -> Biru\n",
    "# Garis Threshold -> Merah\n",
    "plt.figure(figsize=(10,7))\n",
    "plt.title('Graph AUROC',size=12)\n",
    "plt.plot(FPR,TPR,label=f'AUC {round(roc_auc,2)}')\n",
    "plt.plot([0,1],[0,1],'r--')\n",
    "plt.legend(loc='upper left')\n",
    "plt.xlim([0,1])\n",
    "plt.ylim([0,1])\n",
    "plt.ylabel('TPR (True Positive Rate)')\n",
    "plt.xlabel('FPR (False Positive Rate)')\n",
    "\n",
    "print('ROC AUC Score =', roc_auc_score(y_test, classification.predict(X_test)))"
   ]
  },
  {
   "cell_type": "markdown",
   "metadata": {},
   "source": [
    "> AUC Score is high. It means the model is almost ideal condition and return correct prediction in almost all values."
   ]
  },
  {
   "cell_type": "markdown",
   "metadata": {},
   "source": [
    "**Feature Importances for the model**"
   ]
  },
  {
   "cell_type": "code",
   "execution_count": 40,
   "metadata": {
    "scrolled": true
   },
   "outputs": [
    {
     "data": {
      "text/html": [
       "\n",
       "    <style>\n",
       "    table.eli5-weights tr:hover {\n",
       "        filter: brightness(85%);\n",
       "    }\n",
       "</style>\n",
       "\n",
       "\n",
       "\n",
       "    \n",
       "\n",
       "    \n",
       "\n",
       "    \n",
       "\n",
       "    \n",
       "\n",
       "    \n",
       "\n",
       "    \n",
       "\n",
       "\n",
       "    \n",
       "\n",
       "    \n",
       "\n",
       "    \n",
       "\n",
       "    \n",
       "\n",
       "    \n",
       "\n",
       "    \n",
       "\n",
       "\n",
       "    \n",
       "\n",
       "    \n",
       "\n",
       "    \n",
       "\n",
       "    \n",
       "\n",
       "    \n",
       "        <table class=\"eli5-weights eli5-feature-importances\" style=\"border-collapse: collapse; border: none; margin-top: 0em; table-layout: auto;\">\n",
       "    <thead>\n",
       "    <tr style=\"border: none;\">\n",
       "        <th style=\"padding: 0 1em 0 0.5em; text-align: right; border: none;\">Weight</th>\n",
       "        <th style=\"padding: 0 0.5em 0 0.5em; text-align: left; border: none;\">Feature</th>\n",
       "    </tr>\n",
       "    </thead>\n",
       "    <tbody>\n",
       "    \n",
       "        <tr style=\"background-color: hsl(120, 100.00%, 80.00%); border: none;\">\n",
       "            <td style=\"padding: 0 1em 0 0.5em; text-align: right; border: none;\">\n",
       "                0.1301\n",
       "                \n",
       "                    &plusmn; 0.0038\n",
       "                \n",
       "            </td>\n",
       "            <td style=\"padding: 0 0.5em 0 0.5em; text-align: left; border: none;\">\n",
       "                Low-Rise or Home Performance Indicator_Low-Rise\n",
       "            </td>\n",
       "        </tr>\n",
       "    \n",
       "        <tr style=\"background-color: hsl(120, 100.00%, 85.80%); border: none;\">\n",
       "            <td style=\"padding: 0 1em 0 0.5em; text-align: right; border: none;\">\n",
       "                0.0797\n",
       "                \n",
       "                    &plusmn; 0.0019\n",
       "                \n",
       "            </td>\n",
       "            <td style=\"padding: 0 0.5em 0 0.5em; text-align: left; border: none;\">\n",
       "                Gas Utility_No Gas Provider\n",
       "            </td>\n",
       "        </tr>\n",
       "    \n",
       "        <tr style=\"background-color: hsl(120, 100.00%, 91.14%); border: none;\">\n",
       "            <td style=\"padding: 0 1em 0 0.5em; text-align: right; border: none;\">\n",
       "                0.0406\n",
       "                \n",
       "                    &plusmn; 0.0026\n",
       "                \n",
       "            </td>\n",
       "            <td style=\"padding: 0 0.5em 0 0.5em; text-align: left; border: none;\">\n",
       "                Total Incentives\n",
       "            </td>\n",
       "        </tr>\n",
       "    \n",
       "        <tr style=\"background-color: hsl(120, 100.00%, 92.20%); border: none;\">\n",
       "            <td style=\"padding: 0 1em 0 0.5em; text-align: right; border: none;\">\n",
       "                0.0339\n",
       "                \n",
       "                    &plusmn; 0.0006\n",
       "                \n",
       "            </td>\n",
       "            <td style=\"padding: 0 0.5em 0 0.5em; text-align: left; border: none;\">\n",
       "                Gas Utility_National Grid\n",
       "            </td>\n",
       "        </tr>\n",
       "    \n",
       "        <tr style=\"background-color: hsl(120, 100.00%, 92.37%); border: none;\">\n",
       "            <td style=\"padding: 0 1em 0 0.5em; text-align: right; border: none;\">\n",
       "                0.0328\n",
       "                \n",
       "                    &plusmn; 0.0016\n",
       "                \n",
       "            </td>\n",
       "            <td style=\"padding: 0 0.5em 0 0.5em; text-align: left; border: none;\">\n",
       "                Electric Utility_National Grid\n",
       "            </td>\n",
       "        </tr>\n",
       "    \n",
       "        <tr style=\"background-color: hsl(120, 100.00%, 92.95%); border: none;\">\n",
       "            <td style=\"padding: 0 1em 0 0.5em; text-align: right; border: none;\">\n",
       "                0.0293\n",
       "                \n",
       "                    &plusmn; 0.0021\n",
       "                \n",
       "            </td>\n",
       "            <td style=\"padding: 0 0.5em 0 0.5em; text-align: left; border: none;\">\n",
       "                Gas Utility_Rochester Gas &amp; Electric\n",
       "            </td>\n",
       "        </tr>\n",
       "    \n",
       "        <tr style=\"background-color: hsl(120, 100.00%, 94.47%); border: none;\">\n",
       "            <td style=\"padding: 0 1em 0 0.5em; text-align: right; border: none;\">\n",
       "                0.0207\n",
       "                \n",
       "                    &plusmn; 0.0014\n",
       "                \n",
       "            </td>\n",
       "            <td style=\"padding: 0 0.5em 0 0.5em; text-align: left; border: none;\">\n",
       "                Pre-Retrofit Home Heating Fuel Type_Oil\n",
       "            </td>\n",
       "        </tr>\n",
       "    \n",
       "        <tr style=\"background-color: hsl(120, 100.00%, 94.66%); border: none;\">\n",
       "            <td style=\"padding: 0 1em 0 0.5em; text-align: right; border: none;\">\n",
       "                0.0197\n",
       "                \n",
       "                    &plusmn; 0.0023\n",
       "                \n",
       "            </td>\n",
       "            <td style=\"padding: 0 0.5em 0 0.5em; text-align: left; border: none;\">\n",
       "                Estimated Annual MMBtu Savings\n",
       "            </td>\n",
       "        </tr>\n",
       "    \n",
       "        <tr style=\"background-color: hsl(120, 100.00%, 94.68%); border: none;\">\n",
       "            <td style=\"padding: 0 1em 0 0.5em; text-align: right; border: none;\">\n",
       "                0.0196\n",
       "                \n",
       "                    &plusmn; 0.0015\n",
       "                \n",
       "            </td>\n",
       "            <td style=\"padding: 0 0.5em 0 0.5em; text-align: left; border: none;\">\n",
       "                Gas Utility_National Fuel Gas Distribution\n",
       "            </td>\n",
       "        </tr>\n",
       "    \n",
       "        <tr style=\"background-color: hsl(120, 100.00%, 94.77%); border: none;\">\n",
       "            <td style=\"padding: 0 1em 0 0.5em; text-align: right; border: none;\">\n",
       "                0.0192\n",
       "                \n",
       "                    &plusmn; 0.0018\n",
       "                \n",
       "            </td>\n",
       "            <td style=\"padding: 0 0.5em 0 0.5em; text-align: left; border: none;\">\n",
       "                Pre-Retrofit Home Heating Fuel Type_Natural Gas\n",
       "            </td>\n",
       "        </tr>\n",
       "    \n",
       "        <tr style=\"background-color: hsl(120, 100.00%, 94.79%); border: none;\">\n",
       "            <td style=\"padding: 0 1em 0 0.5em; text-align: right; border: none;\">\n",
       "                0.0190\n",
       "                \n",
       "                    &plusmn; 0.0014\n",
       "                \n",
       "            </td>\n",
       "            <td style=\"padding: 0 0.5em 0 0.5em; text-align: left; border: none;\">\n",
       "                First Year Energy Savings $ Estimate\n",
       "            </td>\n",
       "        </tr>\n",
       "    \n",
       "        <tr style=\"background-color: hsl(120, 100.00%, 94.81%); border: none;\">\n",
       "            <td style=\"padding: 0 1em 0 0.5em; text-align: right; border: none;\">\n",
       "                0.0189\n",
       "                \n",
       "                    &plusmn; 0.0008\n",
       "                \n",
       "            </td>\n",
       "            <td style=\"padding: 0 0.5em 0 0.5em; text-align: left; border: none;\">\n",
       "                Electric Utility_Rochester Gas &amp; Electric\n",
       "            </td>\n",
       "        </tr>\n",
       "    \n",
       "        <tr style=\"background-color: hsl(120, 100.00%, 95.73%); border: none;\">\n",
       "            <td style=\"padding: 0 1em 0 0.5em; text-align: right; border: none;\">\n",
       "                0.0143\n",
       "                \n",
       "                    &plusmn; 0.0003\n",
       "                \n",
       "            </td>\n",
       "            <td style=\"padding: 0 0.5em 0 0.5em; text-align: left; border: none;\">\n",
       "                Type of Program Financing_Green Jobs - Green NY Smart Energy Loan\n",
       "            </td>\n",
       "        </tr>\n",
       "    \n",
       "        <tr style=\"background-color: hsl(120, 100.00%, 95.87%); border: none;\">\n",
       "            <td style=\"padding: 0 1em 0 0.5em; text-align: right; border: none;\">\n",
       "                0.0136\n",
       "                \n",
       "                    &plusmn; 0.0008\n",
       "                \n",
       "            </td>\n",
       "            <td style=\"padding: 0 0.5em 0 0.5em; text-align: left; border: none;\">\n",
       "                Customer Type_Market\n",
       "            </td>\n",
       "        </tr>\n",
       "    \n",
       "        <tr style=\"background-color: hsl(120, 100.00%, 95.93%); border: none;\">\n",
       "            <td style=\"padding: 0 1em 0 0.5em; text-align: right; border: none;\">\n",
       "                0.0134\n",
       "                \n",
       "                    &plusmn; 0.0014\n",
       "                \n",
       "            </td>\n",
       "            <td style=\"padding: 0 0.5em 0 0.5em; text-align: left; border: none;\">\n",
       "                Volume of Home\n",
       "            </td>\n",
       "        </tr>\n",
       "    \n",
       "        <tr style=\"background-color: hsl(120, 100.00%, 96.01%); border: none;\">\n",
       "            <td style=\"padding: 0 1em 0 0.5em; text-align: right; border: none;\">\n",
       "                0.0130\n",
       "                \n",
       "                    &plusmn; 0.0011\n",
       "                \n",
       "            </td>\n",
       "            <td style=\"padding: 0 0.5em 0 0.5em; text-align: left; border: none;\">\n",
       "                Size of Home\n",
       "            </td>\n",
       "        </tr>\n",
       "    \n",
       "        <tr style=\"background-color: hsl(120, 100.00%, 96.23%); border: none;\">\n",
       "            <td style=\"padding: 0 1em 0 0.5em; text-align: right; border: none;\">\n",
       "                0.0120\n",
       "                \n",
       "                    &plusmn; 0.0011\n",
       "                \n",
       "            </td>\n",
       "            <td style=\"padding: 0 0.5em 0 0.5em; text-align: left; border: none;\">\n",
       "                Type of Program Financing_Not Financed Through The Legacy Program Financing Option\n",
       "            </td>\n",
       "        </tr>\n",
       "    \n",
       "        <tr style=\"background-color: hsl(120, 100.00%, 96.23%); border: none;\">\n",
       "            <td style=\"padding: 0 1em 0 0.5em; text-align: right; border: none;\">\n",
       "                0.0120\n",
       "                \n",
       "                    &plusmn; 0.0004\n",
       "                \n",
       "            </td>\n",
       "            <td style=\"padding: 0 0.5em 0 0.5em; text-align: left; border: none;\">\n",
       "                Total Project Cost\n",
       "            </td>\n",
       "        </tr>\n",
       "    \n",
       "        <tr style=\"background-color: hsl(120, 100.00%, 96.29%); border: none;\">\n",
       "            <td style=\"padding: 0 1em 0 0.5em; text-align: right; border: none;\">\n",
       "                0.0117\n",
       "                \n",
       "                    &plusmn; 0.0011\n",
       "                \n",
       "            </td>\n",
       "            <td style=\"padding: 0 0.5em 0 0.5em; text-align: left; border: none;\">\n",
       "                Electric Utility_New York State Electric &amp; Gas\n",
       "            </td>\n",
       "        </tr>\n",
       "    \n",
       "        <tr style=\"background-color: hsl(120, 100.00%, 96.30%); border: none;\">\n",
       "            <td style=\"padding: 0 1em 0 0.5em; text-align: right; border: none;\">\n",
       "                0.0117\n",
       "                \n",
       "                    &plusmn; 0.0020\n",
       "                \n",
       "            </td>\n",
       "            <td style=\"padding: 0 0.5em 0 0.5em; text-align: left; border: none;\">\n",
       "                Estimated Annual kWh Savings\n",
       "            </td>\n",
       "        </tr>\n",
       "    \n",
       "    \n",
       "        \n",
       "            <tr style=\"background-color: hsl(120, 100.00%, 96.30%); border: none;\">\n",
       "                <td colspan=\"2\" style=\"padding: 0 0.5em 0 0.5em; text-align: center; border: none; white-space: nowrap;\">\n",
       "                    <i>&hellip; 24 more &hellip;</i>\n",
       "                </td>\n",
       "            </tr>\n",
       "        \n",
       "    \n",
       "    </tbody>\n",
       "</table>\n",
       "    \n",
       "\n",
       "    \n",
       "\n",
       "\n",
       "    \n",
       "\n",
       "    \n",
       "\n",
       "    \n",
       "\n",
       "    \n",
       "\n",
       "    \n",
       "\n",
       "    \n",
       "\n",
       "\n",
       "\n"
      ],
      "text/plain": [
       "<IPython.core.display.HTML object>"
      ]
     },
     "execution_count": 40,
     "metadata": {},
     "output_type": "execute_result"
    }
   ],
   "source": [
    "from eli5 import show_weights\n",
    "from eli5.sklearn import PermutationImportance\n",
    "\n",
    "classification.fit(X_train,y_train)\n",
    "permutation = PermutationImportance(classification,scoring='accuracy',random_state=101).fit(X_test,y_test)\n",
    "show_weights(permutation,feature_names=list(X_test.columns))\n"
   ]
  },
  {
   "cell_type": "markdown",
   "metadata": {},
   "source": [
    "> From this table we can conclude that Low-Rise or Home Performance Indicator_Low-Rise is the most importance features for the model"
   ]
  },
  {
   "cell_type": "markdown",
   "metadata": {},
   "source": [
    "### Pipeline for Dashboard"
   ]
  },
  {
   "cell_type": "code",
   "execution_count": 41,
   "metadata": {},
   "outputs": [],
   "source": [
    "from sklearn.pipeline import Pipeline"
   ]
  },
  {
   "cell_type": "code",
   "execution_count": 42,
   "metadata": {},
   "outputs": [
    {
     "data": {
      "text/plain": [
       "Pipeline(memory=None,\n",
       "         steps=[('clf',\n",
       "                 RandomForestClassifier(bootstrap=True, ccp_alpha=0.0,\n",
       "                                        class_weight=None, criterion='gini',\n",
       "                                        max_depth=None, max_features='auto',\n",
       "                                        max_leaf_nodes=None, max_samples=None,\n",
       "                                        min_impurity_decrease=0.0,\n",
       "                                        min_impurity_split=None,\n",
       "                                        min_samples_leaf=1, min_samples_split=2,\n",
       "                                        min_weight_fraction_leaf=0.0,\n",
       "                                        n_estimators=100, n_jobs=None,\n",
       "                                        oob_score=False, random_state=None,\n",
       "                                        verbose=0, warm_start=False))],\n",
       "         verbose=False)"
      ]
     },
     "execution_count": 42,
     "metadata": {},
     "output_type": "execute_result"
    }
   ],
   "source": [
    "steps = [('clf', RandomForestClassifier())]\n",
    "pipeline = Pipeline(steps)\n",
    "pipeline.fit(X_train,y_train)"
   ]
  },
  {
   "cell_type": "markdown",
   "metadata": {},
   "source": [
    "### Export Model"
   ]
  },
  {
   "cell_type": "code",
   "execution_count": 43,
   "metadata": {},
   "outputs": [],
   "source": [
    "import pickle"
   ]
  },
  {
   "cell_type": "code",
   "execution_count": 44,
   "metadata": {},
   "outputs": [],
   "source": [
    "filename = 'finalized_model.sav'\n",
    "pickle.dump(pipeline, open(filename, 'wb'))"
   ]
  },
  {
   "cell_type": "code",
   "execution_count": 45,
   "metadata": {},
   "outputs": [],
   "source": [
    "filename = 'features_columns.sav'\n",
    "pickle.dump(data.drop('Homeowner Received Green Jobs-Green NY Free/Reduced Cost Audit (Y/N)',axis=1).columns, open(filename , 'wb'))"
   ]
  },
  {
   "cell_type": "code",
   "execution_count": 46,
   "metadata": {},
   "outputs": [],
   "source": [
    "filename = 'X_dummies_columns.sav'\n",
    "pickle.dump(features.columns, open(filename , 'wb'))"
   ]
  },
  {
   "cell_type": "markdown",
   "metadata": {},
   "source": [
    "## Extention\n"
   ]
  },
  {
   "cell_type": "markdown",
   "metadata": {},
   "source": [
    "### Unsupervised Learning - KMeans Clustering"
   ]
  },
  {
   "cell_type": "markdown",
   "metadata": {},
   "source": [
    "> In this Unsupervised Learning, I want to create two clusters for this dataset using KMeans Clustering"
   ]
  },
  {
   "cell_type": "code",
   "execution_count": 47,
   "metadata": {},
   "outputs": [
    {
     "data": {
      "image/png": "[encoded data removed]",
      "text/plain": [
       "<Figure size 1152x576 with 2 Axes>"
      ]
     },
     "metadata": {
      "needs_background": "light"
     },
     "output_type": "display_data"
    }
   ],
   "source": [
    "from sklearn.preprocessing import StandardScaler\n",
    "from sklearn.decomposition import PCA\n",
    "scaler = StandardScaler()\n",
    "scaler.fit(df.drop('Homeowner Received Green Jobs-Green NY Free/Reduced Cost Audit (Y/N)',axis=1))\n",
    "data_scaled = pd.DataFrame(scaler.transform(df.drop('Homeowner Received Green Jobs-Green NY Free/Reduced Cost Audit (Y/N)',axis=1)),\n",
    "                           columns=df.drop('Homeowner Received Green Jobs-Green NY Free/Reduced Cost Audit (Y/N)',axis=1).columns)\n",
    "\n",
    "pca = PCA(n_components = 2, random_state = 101)\n",
    "pca.fit(data_scaled)\n",
    "x_pca = pd.DataFrame(pca.transform(data_scaled), columns = ['PCA1', 'PCA2'])\n",
    "\n",
    "from sklearn.cluster import KMeans\n",
    "kmeans = KMeans(n_clusters=2)\n",
    "kmeans.fit(x_pca)\n",
    "dfKmeans = x_pca.copy()\n",
    "dfKmeans['Category'] = kmeans.labels_\n",
    "\n",
    "centroids = kmeans.cluster_centers_\n",
    "f, (ax1, ax2) = plt.subplots(1, 2, sharey=True,figsize=(16,8))\n",
    "\n",
    "ax1.set_title(\"Original\",size=15)\n",
    "ax1.scatter(x_pca['PCA1'], x_pca['PCA2'],  cmap = 'rainbow')\n",
    "\n",
    "ax2.set_title('K Means',size=15)\n",
    "ax2.scatter(dfKmeans['PCA1'], dfKmeans['PCA2'], c =dfKmeans['Category'], cmap = 'rainbow')\n",
    "ax2.scatter(centroids[:, 0], centroids[:, 1], marker='o', c='black', s=250)\n",
    "\n",
    "plt.show()"
   ]
  }
 ],
 "metadata": {
  "kernelspec": {
   "display_name": "Python 3",
   "language": "python",
   "name": "python3"
  },
  "language_info": {
   "codemirror_mode": {
    "name": "ipython",
    "version": 3
   },
   "file_extension": ".py",
   "mimetype": "text/x-python",
   "name": "python",
   "nbconvert_exporter": "python",
   "pygments_lexer": "ipython3",
   "version": "3.7.4"
  }
 },
 "nbformat": 4,
 "nbformat_minor": 2
}
